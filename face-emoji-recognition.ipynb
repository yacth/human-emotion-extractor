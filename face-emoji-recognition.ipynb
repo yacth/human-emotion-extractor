{
 "cells": [
  {
   "cell_type": "markdown",
   "metadata": {},
   "source": [
    "# 1 - Loading the libraries"
   ]
  },
  {
   "cell_type": "code",
   "execution_count": 3,
   "metadata": {},
   "outputs": [],
   "source": [
    "import matplotlib.pyplot as plt\n",
    "import numpy as np\n",
    "import torch\n",
    "import torch.nn as nn\n",
    "import torch.nn.functional as F\n",
    "import torch.optim as optim\n",
    "import torchvision\n",
    "import torchvision.transforms as transforms\n",
    "from torch.utils.data import DataLoader, Dataset, Subset\n",
    "from torch.utils.data.sampler import SubsetRandomSampler\n",
    "\n",
    "\n",
    "from sklearn.model_selection import train_test_split\n",
    "import pandas as pd\n",
    "from PIL import Image\n",
    "import os\n",
    "from tqdm import tqdm\n",
    "import cv2\n",
    "from IPython.display import clear_output\n",
    "import emoji\n",
    "\n",
    "# CUSTOM FILES\n",
    "from DeepEmotion import Deep_Emotion\n",
    "from Emotion_Dataset import EmotionDataset\n",
    "from tools import *\n",
    "from train import *\n",
    "from predict import *\n",
    "from emotion_extraction import *"
   ]
  },
  {
   "cell_type": "code",
   "execution_count": 4,
   "metadata": {},
   "outputs": [
    {
     "name": "stderr",
     "output_type": "stream",
     "text": [
      "C:\\Users\\Yacin\\anaconda3\\lib\\site-packages\\torch\\cuda\\__init__.py:52: UserWarning: CUDA initialization: Found no NVIDIA driver on your system. Please check that you have an NVIDIA GPU and installed a driver from http://www.nvidia.com/Download/index.aspx (Triggered internally at  ..\\c10\\cuda\\CUDAFunctions.cpp:100.)\n",
      "  return torch._C._cuda_getDeviceCount() > 0\n"
     ]
    }
   ],
   "source": [
    "device = torch.device(\"cuda:0\" if torch.cuda.is_available() else \"cpu\")"
   ]
  },
  {
   "cell_type": "markdown",
   "metadata": {},
   "source": [
    "# 2 - Loading the data"
   ]
  },
  {
   "cell_type": "code",
   "execution_count": 4,
   "metadata": {},
   "outputs": [],
   "source": [
    "dataset_path = './dataset'\n",
    "\n",
    "# CREATES THE IMAGES FROM THE VECTOR IN THE CSV FILES\n",
    "train_val_split_data(dataset_path)\n",
    "save_images(dataset_path, 'train_data')\n",
    "save_images(dataset_path, 'val_data')\n",
    "save_images(dataset_path, 'test')"
   ]
  },
  {
   "cell_type": "code",
   "execution_count": 5,
   "metadata": {},
   "outputs": [],
   "source": [
    "train_csv_path = dataset_path + '/train_data.csv'\n",
    "val_csv_path = dataset_path + '/val_data.csv'\n",
    "\n",
    "train_img_dir = dataset_path + '/train_data/'\n",
    "val_img_dir = dataset_path + '/val_data/'"
   ]
  },
  {
   "cell_type": "markdown",
   "metadata": {},
   "source": [
    "# 3 - Pre setting for the training of the Neural Network"
   ]
  },
  {
   "cell_type": "code",
   "execution_count": 6,
   "metadata": {},
   "outputs": [],
   "source": [
    "_batch_size = 128"
   ]
  },
  {
   "cell_type": "code",
   "execution_count": 7,
   "metadata": {},
   "outputs": [],
   "source": [
    "transformation = transforms.Compose([transforms.ToTensor(),transforms.Normalize((0.5,),(0.5,))])\n",
    "\n",
    "train_set = EmotionDataset(train_csv_path, train_img_dir,'train_data' , transformation)\n",
    "train_loader = DataLoader(train_set, _batch_size, shuffle=True, num_workers=0)\n",
    "\n",
    "val_set = EmotionDataset(val_csv_path, val_img_dir, 'val_data', transformation)\n",
    "val_loader = DataLoader(val_set, _batch_size, shuffle=True, num_workers=0)"
   ]
  },
  {
   "cell_type": "markdown",
   "metadata": {},
   "source": [
    "## 3.1 - Loss and optimizer"
   ]
  },
  {
   "cell_type": "code",
   "execution_count": 8,
   "metadata": {},
   "outputs": [],
   "source": [
    "learning_rate = 0.003\n",
    "\n",
    "net = Deep_Emotion()\n",
    "# net.to(device)\n",
    "criterion = nn.CrossEntropyLoss()\n",
    "optimizer = optim.Adam(net.parameters(), lr=learning_rate)\n"
   ]
  },
  {
   "cell_type": "markdown",
   "metadata": {},
   "source": [
    "# 4 - Training the model"
   ]
  },
  {
   "cell_type": "code",
   "execution_count": 9,
   "metadata": {},
   "outputs": [],
   "source": [
    "epochs = 100\n",
    "# training(epochs, train_loader, val_loader, net, learning_rate)"
   ]
  },
  {
   "cell_type": "code",
   "execution_count": 18,
   "metadata": {},
   "outputs": [],
   "source": [
    "PATH = './dataset/DeepEmotion.pth'\n",
    "# torch.save(net.state_dict(), PATH)"
   ]
  },
  {
   "cell_type": "code",
   "execution_count": 19,
   "metadata": {},
   "outputs": [
    {
     "data": {
      "text/plain": [
       "<All keys matched successfully>"
      ]
     },
     "execution_count": 19,
     "metadata": {},
     "output_type": "execute_result"
    }
   ],
   "source": [
    "net = Deep_Emotion()\n",
    "torch.device('cpu')\n",
    "if torch.cuda.is_available():\n",
    "    map_location=lambda storage, loc: storage.cuda()\n",
    "else:\n",
    "    map_location='cpu'\n",
    "\n",
    "net.load_state_dict(torch.load(PATH, map_location=map_location))"
   ]
  },
  {
   "cell_type": "markdown",
   "metadata": {},
   "source": [
    "## 4.1 - Some testing"
   ]
  },
  {
   "cell_type": "markdown",
   "metadata": {},
   "source": [
    "Accuracy after training on the FER-2013 dataset"
   ]
  },
  {
   "cell_type": "code",
   "execution_count": 20,
   "metadata": {},
   "outputs": [
    {
     "name": "stdout",
     "output_type": "stream",
     "text": [
      "Accuracy of the network on the val images: 10 %\n"
     ]
    }
   ],
   "source": [
    "acc = accuracy(val_loader, net)\n",
    "print('Accuracy of the network on the val images: %d %%' % acc)"
   ]
  },
  {
   "cell_type": "code",
   "execution_count": 21,
   "metadata": {},
   "outputs": [
    {
     "name": "stdout",
     "output_type": "stream",
     "text": [
      "Accuracy of 😁: 0.00%\n",
      "Accuracy of 😳: 0.00%\n",
      "Accuracy of ☹️: 18.75%\n",
      "Accuracy of 😗: 7.14%\n",
      "Accuracy of 🙄: 0.00%\n",
      "Accuracy of 😊: 0.00%\n",
      "Accuracy of 😜: 22.22%\n"
     ]
    }
   ],
   "source": [
    "multi_class_accuracy(val_loader, net)"
   ]
  },
  {
   "cell_type": "markdown",
   "metadata": {},
   "source": [
    "## 4.2 - Result after training on FER-2013"
   ]
  },
  {
   "cell_type": "code",
   "execution_count": 22,
   "metadata": {},
   "outputs": [
    {
     "name": "stdout",
     "output_type": "stream",
     "text": [
      "Probability of 😁: 0.00%\n",
      "Probability of 😳: 0.00%\n",
      "Probability of ☹️: 0.00%\n",
      "Probability of 😗: 98.00%\n",
      "Probability of 🙄: 0.00%\n",
      "Probability of 😊: 0.00%\n",
      "Probability of 😜: 1.00%\n"
     ]
    }
   ],
   "source": [
    "show_prediction('test.jpg', net)"
   ]
  },
  {
   "cell_type": "code",
   "execution_count": 15,
   "metadata": {},
   "outputs": [],
   "source": [
    "# UNCOMMENT TO TEST THE PROGRAM WITH THE CAMERA\n",
    "\n",
    "# show_prediction_video(net)"
   ]
  },
  {
   "cell_type": "markdown",
   "metadata": {},
   "source": [
    "# 5 - Transfert Learning"
   ]
  },
  {
   "cell_type": "code",
   "execution_count": 21,
   "metadata": {},
   "outputs": [],
   "source": [
    "# UNCOMMENT THE FOLLOWING COMMAND TO RECREATE A CLEAN DATASET AFTER FILLING THE DIFFERENT EMOTIONS\n",
    "# ON THE './dataset-transfert/...' files.\n",
    "\n",
    "# create_dataset()"
   ]
  },
  {
   "cell_type": "code",
   "execution_count": 9,
   "metadata": {},
   "outputs": [],
   "source": [
    "class AddGaussianNoise(object):\n",
    "    def __init__(self, mean=0., std=1.):\n",
    "        self.std = std\n",
    "        self.mean = mean\n",
    "        \n",
    "    def __call__(self, tensor):\n",
    "        return tensor + torch.randn(tensor.size()) * self.std + self.mean\n",
    "    \n",
    "    def __repr__(self):\n",
    "        return self.__class__.__name__ + '(mean={0}, std={1})'.format(self.mean, self.std)"
   ]
  },
  {
   "cell_type": "code",
   "execution_count": 10,
   "metadata": {},
   "outputs": [],
   "source": [
    "transformation_augmented = transforms.Compose([transforms.Resize((48,48)),\n",
    "                                                 transforms.ToTensor(),\n",
    "                                                 torchvision.transforms.ColorJitter(hue=.05, saturation=.05),\n",
    "                                                 AddGaussianNoise(0.01, 0.008),\n",
    "                                                 torchvision.transforms.RandomHorizontalFlip(),\n",
    "                                                 torchvision.transforms.RandomVerticalFlip(),\n",
    "                                                 transforms.Grayscale(num_output_channels=1),\n",
    "                                                 transforms.Normalize((0.5,),(0.5,))\n",
    "                                                ])\n",
    "\n",
    "transformation = transforms.Compose([transforms.Resize((48,48)),\n",
    "                                     transforms.ToTensor(),\n",
    "                                     transforms.Grayscale(num_output_channels=1),\n",
    "                                     transforms.Normalize((0.5,),(0.5,))\n",
    "                                    ])\n",
    "\n",
    "data_transfert_augmented = torchvision.datasets.ImageFolder('./dataset-transfert', transform = transformation_augmented)\n",
    "dataset_transfert = torchvision.datasets.ImageFolder('./dataset-transfert', transform = transformation)"
   ]
  },
  {
   "cell_type": "code",
   "execution_count": 11,
   "metadata": {},
   "outputs": [],
   "source": [
    "train_size = int(0.7 * len(dataset_transfert))\n",
    "val_size = len(dataset_transfert) - train_size\n",
    "train_set, val_set = torch.utils.data.random_split(dataset_transfert, [train_size, val_size])\n",
    "train_set = train_set + data_transfert_augmented"
   ]
  },
  {
   "cell_type": "code",
   "execution_count": 12,
   "metadata": {},
   "outputs": [],
   "source": [
    "train_loader = torch.utils.data.DataLoader(train_set, batch_size=32, shuffle=True)\n",
    "val_loader = torch.utils.data.DataLoader(val_set, batch_size =32, shuffle=True)"
   ]
  },
  {
   "cell_type": "code",
   "execution_count": 26,
   "metadata": {},
   "outputs": [],
   "source": [
    "# imshow(*train_set[2])"
   ]
  },
  {
   "cell_type": "markdown",
   "metadata": {},
   "source": [
    "## 5.1 - Transfert learning of the dataset with the new emotions to detect"
   ]
  },
  {
   "cell_type": "code",
   "execution_count": 26,
   "metadata": {},
   "outputs": [
    {
     "name": "stdout",
     "output_type": "stream",
     "text": [
      "Epoch 99\n",
      "Train accuracy 97.6401179941003\n",
      "Val accuracy 98.33333333333333\n"
     ]
    },
    {
     "data": {
      "image/png": "[encoded data removed]",
      "text/plain": [
       "<Figure size 432x288 with 1 Axes>"
      ]
     },
     "metadata": {
      "needs_background": "light"
     },
     "output_type": "display_data"
    },
    {
     "name": "stdout",
     "output_type": "stream",
     "text": [
      "Finished Training\n"
     ]
    }
   ],
   "source": [
    "epochs = 100\n",
    "# training(epochs, train_loader, val_loader, net, learning_rate)"
   ]
  },
  {
   "cell_type": "code",
   "execution_count": 13,
   "metadata": {},
   "outputs": [],
   "source": [
    "PATH = './dataset/DeepEmotion_RETRAINED.pth'\n",
    "\n",
    "# UNCOMMENT THE FOLLOWING COMMAND TO SAVE THE NEW TRAINED PARAMETERS\n",
    "# torch.save(net.state_dict(), PATH)"
   ]
  },
  {
   "cell_type": "code",
   "execution_count": 14,
   "metadata": {},
   "outputs": [
    {
     "data": {
      "text/plain": [
       "<All keys matched successfully>"
      ]
     },
     "execution_count": 14,
     "metadata": {},
     "output_type": "execute_result"
    }
   ],
   "source": [
    "# LOAD THE PRETRAINED NETWORK AFTER TRANSFERT LEARNING ON THE NEW DATASET\n",
    "\n",
    "net = Deep_Emotion()\n",
    "torch.device('cpu')\n",
    "if torch.cuda.is_available():\n",
    "    map_location=lambda storage, loc: storage.cuda()\n",
    "else:\n",
    "    map_location='cpu'\n",
    "\n",
    "net.load_state_dict(torch.load(PATH, map_location=map_location))"
   ]
  },
  {
   "cell_type": "markdown",
   "metadata": {},
   "source": [
    "Accuracy of the retrained network on the new dataset"
   ]
  },
  {
   "cell_type": "code",
   "execution_count": 15,
   "metadata": {},
   "outputs": [
    {
     "name": "stderr",
     "output_type": "stream",
     "text": [
      "C:\\Users\\Yacin\\anaconda3\\lib\\site-packages\\torch\\nn\\functional.py:3448: UserWarning: Default grid_sample and affine_grid behavior has changed to align_corners=False since 1.3.0. Please specify align_corners=True if the old behavior is desired. See the documentation of grid_sample for details.\n",
      "  warnings.warn(\"Default grid_sample and affine_grid behavior has changed \"\n",
      "C:\\Users\\Yacin\\anaconda3\\lib\\site-packages\\torch\\nn\\functional.py:3385: UserWarning: Default grid_sample and affine_grid behavior has changed to align_corners=False since 1.3.0. Please specify align_corners=True if the old behavior is desired. See the documentation of grid_sample for details.\n",
      "  warnings.warn(\"Default grid_sample and affine_grid behavior has changed \"\n"
     ]
    },
    {
     "name": "stdout",
     "output_type": "stream",
     "text": [
      "Accuracy of the network on the val images: 99 %\n"
     ]
    }
   ],
   "source": [
    "acc = accuracy(val_loader, net)\n",
    "print('Accuracy of the network on the val images: %d %%' % acc)"
   ]
  },
  {
   "cell_type": "code",
   "execution_count": 16,
   "metadata": {},
   "outputs": [
    {
     "name": "stdout",
     "output_type": "stream",
     "text": [
      "Accuracy of 😁: 100.00%\n",
      "Accuracy of 😳: 100.00%\n",
      "Accuracy of ☹️: 100.00%\n",
      "Accuracy of 😗: 100.00%\n",
      "Accuracy of 🙄: 100.00%\n",
      "Accuracy of 😊: 100.00%\n",
      "Accuracy of 😜: 100.00%\n"
     ]
    }
   ],
   "source": [
    "multi_class_accuracy(val_loader, net)"
   ]
  },
  {
   "cell_type": "code",
   "execution_count": 17,
   "metadata": {},
   "outputs": [
    {
     "name": "stdout",
     "output_type": "stream",
     "text": [
      "Probability of 😁: 98.00%\n",
      "Probability of 😳: 0.00%\n",
      "Probability of ☹️: 0.00%\n",
      "Probability of 😗: 0.00%\n",
      "Probability of 🙄: 0.00%\n",
      "Probability of 😊: 1.00%\n",
      "Probability of 😜: 0.00%\n"
     ]
    }
   ],
   "source": [
    "show_prediction('test.jpg', net)"
   ]
  },
  {
   "cell_type": "code",
   "execution_count": 37,
   "metadata": {},
   "outputs": [],
   "source": [
    "# UNCOMMENT THE FOLLOWING COMMAND TO TEST THE PROGRAM WITH THE CAMERA\n",
    "\n",
    "# show_prediction_video(net)"
   ]
  },
  {
   "cell_type": "code",
   "execution_count": null,
   "metadata": {},
   "outputs": [],
   "source": []
  },
  {
   "cell_type": "code",
   "execution_count": null,
   "metadata": {},
   "outputs": [],
   "source": []
  }
 ],
 "metadata": {
  "kernelspec": {
   "display_name": "Python 3",
   "language": "python",
   "name": "python3"
  },
  "language_info": {
   "codemirror_mode": {
    "name": "ipython",
    "version": 3
   },
   "file_extension": ".py",
   "mimetype": "text/x-python",
   "name": "python",
   "nbconvert_exporter": "python",
   "pygments_lexer": "ipython3",
   "version": "3.8.5"
  }
 },
 "nbformat": 4,
 "nbformat_minor": 4
}
